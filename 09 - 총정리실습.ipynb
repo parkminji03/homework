{
 "cells": [
  {
   "cell_type": "markdown",
   "metadata": {
    "id": "BFhIXgdYoYGp"
   },
   "source": [
    "# 09 - 종합 실습"
   ]
  },
  {
   "cell_type": "markdown",
   "metadata": {
    "id": "eRPNqQjA9RM8"
   },
   "source": [
    "## (1) 환경 준비"
   ]
  },
  {
   "cell_type": "markdown",
   "metadata": {
    "id": "bbwyNn__bn0Y"
   },
   "source": [
    "### 1) 라이브러리 불러오기"
   ]
  },
  {
   "cell_type": "code",
   "execution_count": 1,
   "metadata": {
    "id": "b9NraxWDnYr1"
   },
   "outputs": [],
   "source": [
    "# 판다스, 넘파이 라이브러리 불러오기\n",
    "import pandas as pd\n",
    "import numpy as np"
   ]
  },
  {
   "cell_type": "markdown",
   "metadata": {
    "id": "U0gIziwkbuYw"
   },
   "source": [
    "### 2) 데이터 불러오기"
   ]
  },
  {
   "cell_type": "markdown",
   "metadata": {
    "id": "iQcDMyxTbwo4"
   },
   "source": [
    "다음 세개의 데이터를 불러와서 저장합시다.\n",
    "\n",
    "* sales : https://raw.githubusercontent.com/DA4BAM/dataset/master/sales.csv\n",
    "* products : https://raw.githubusercontent.com/DA4BAM/dataset/master/products.csv\n",
    "* customers : https://raw.githubusercontent.com/DA4BAM/dataset/master/customers2.csv"
   ]
  },
  {
   "cell_type": "code",
   "execution_count": 30,
   "metadata": {
    "id": "7sVl9_SDbv-a"
   },
   "outputs": [],
   "source": [
    "sales=pd.read_csv('https://raw.githubusercontent.com/DA4BAM/dataset/master/sales.csv')\n",
    "products=pd.read_csv('https://raw.githubusercontent.com/DA4BAM/dataset/master/products.csv')\n",
    "customers=pd.read_csv('https://raw.githubusercontent.com/DA4BAM/dataset/master/customers2.csv')"
   ]
  },
  {
   "cell_type": "markdown",
   "metadata": {
    "id": "jxfAADt-cnhz"
   },
   "source": [
    "세 데이터프레임의 상위 5개 행을 조회하시오."
   ]
  },
  {
   "cell_type": "code",
   "execution_count": 3,
   "metadata": {
    "id": "J9CzRvK0cs9v"
   },
   "outputs": [
    {
     "data": {
      "text/html": [
       "<div>\n",
       "<style scoped>\n",
       "    .dataframe tbody tr th:only-of-type {\n",
       "        vertical-align: middle;\n",
       "    }\n",
       "\n",
       "    .dataframe tbody tr th {\n",
       "        vertical-align: top;\n",
       "    }\n",
       "\n",
       "    .dataframe thead th {\n",
       "        text-align: right;\n",
       "    }\n",
       "</style>\n",
       "<table border=\"1\" class=\"dataframe\">\n",
       "  <thead>\n",
       "    <tr style=\"text-align: right;\">\n",
       "      <th></th>\n",
       "      <th>OrderID</th>\n",
       "      <th>Seq</th>\n",
       "      <th>OrderDate</th>\n",
       "      <th>ProductID</th>\n",
       "      <th>Qty</th>\n",
       "      <th>Amt</th>\n",
       "      <th>CustomerID</th>\n",
       "    </tr>\n",
       "  </thead>\n",
       "  <tbody>\n",
       "    <tr>\n",
       "      <th>0</th>\n",
       "      <td>107</td>\n",
       "      <td>2</td>\n",
       "      <td>2016-01-02</td>\n",
       "      <td>p1036481</td>\n",
       "      <td>2</td>\n",
       "      <td>2100</td>\n",
       "      <td>c150417</td>\n",
       "    </tr>\n",
       "    <tr>\n",
       "      <th>1</th>\n",
       "      <td>69</td>\n",
       "      <td>1</td>\n",
       "      <td>2016-01-02</td>\n",
       "      <td>p1152861</td>\n",
       "      <td>1</td>\n",
       "      <td>1091</td>\n",
       "      <td>c212716</td>\n",
       "    </tr>\n",
       "    <tr>\n",
       "      <th>2</th>\n",
       "      <td>69</td>\n",
       "      <td>7</td>\n",
       "      <td>2016-01-02</td>\n",
       "      <td>p1013161</td>\n",
       "      <td>1</td>\n",
       "      <td>2600</td>\n",
       "      <td>c212716</td>\n",
       "    </tr>\n",
       "    <tr>\n",
       "      <th>3</th>\n",
       "      <td>69</td>\n",
       "      <td>8</td>\n",
       "      <td>2016-01-02</td>\n",
       "      <td>p1005771</td>\n",
       "      <td>1</td>\n",
       "      <td>1650</td>\n",
       "      <td>c212716</td>\n",
       "    </tr>\n",
       "    <tr>\n",
       "      <th>4</th>\n",
       "      <td>69</td>\n",
       "      <td>11</td>\n",
       "      <td>2016-01-02</td>\n",
       "      <td>p1089531</td>\n",
       "      <td>1</td>\n",
       "      <td>2600</td>\n",
       "      <td>c212716</td>\n",
       "    </tr>\n",
       "  </tbody>\n",
       "</table>\n",
       "</div>"
      ],
      "text/plain": [
       "   OrderID  Seq   OrderDate ProductID  Qty   Amt CustomerID\n",
       "0      107    2  2016-01-02  p1036481    2  2100    c150417\n",
       "1       69    1  2016-01-02  p1152861    1  1091    c212716\n",
       "2       69    7  2016-01-02  p1013161    1  2600    c212716\n",
       "3       69    8  2016-01-02  p1005771    1  1650    c212716\n",
       "4       69   11  2016-01-02  p1089531    1  2600    c212716"
      ]
     },
     "execution_count": 3,
     "metadata": {},
     "output_type": "execute_result"
    }
   ],
   "source": [
    "sales.head(5)"
   ]
  },
  {
   "cell_type": "code",
   "execution_count": 4,
   "metadata": {
    "id": "1tY8pvkUf5v1"
   },
   "outputs": [
    {
     "data": {
      "text/html": [
       "<div>\n",
       "<style scoped>\n",
       "    .dataframe tbody tr th:only-of-type {\n",
       "        vertical-align: middle;\n",
       "    }\n",
       "\n",
       "    .dataframe tbody tr th {\n",
       "        vertical-align: top;\n",
       "    }\n",
       "\n",
       "    .dataframe thead th {\n",
       "        text-align: right;\n",
       "    }\n",
       "</style>\n",
       "<table border=\"1\" class=\"dataframe\">\n",
       "  <thead>\n",
       "    <tr style=\"text-align: right;\">\n",
       "      <th></th>\n",
       "      <th>ProductID</th>\n",
       "      <th>ProductName</th>\n",
       "      <th>Category</th>\n",
       "      <th>SubCategory</th>\n",
       "      <th>CategoryOrd</th>\n",
       "    </tr>\n",
       "  </thead>\n",
       "  <tbody>\n",
       "    <tr>\n",
       "      <th>0</th>\n",
       "      <td>p1052661</td>\n",
       "      <td>새우깡</td>\n",
       "      <td>간식</td>\n",
       "      <td>과자</td>\n",
       "      <td>3</td>\n",
       "    </tr>\n",
       "    <tr>\n",
       "      <th>1</th>\n",
       "      <td>p1054261</td>\n",
       "      <td>고구마스틱</td>\n",
       "      <td>간식</td>\n",
       "      <td>과자</td>\n",
       "      <td>3</td>\n",
       "    </tr>\n",
       "    <tr>\n",
       "      <th>2</th>\n",
       "      <td>p1097821</td>\n",
       "      <td>짱구</td>\n",
       "      <td>간식</td>\n",
       "      <td>과자</td>\n",
       "      <td>3</td>\n",
       "    </tr>\n",
       "    <tr>\n",
       "      <th>3</th>\n",
       "      <td>p1097831</td>\n",
       "      <td>감자칩</td>\n",
       "      <td>간식</td>\n",
       "      <td>과자</td>\n",
       "      <td>3</td>\n",
       "    </tr>\n",
       "    <tr>\n",
       "      <th>4</th>\n",
       "      <td>p1119071</td>\n",
       "      <td>뿌셔뿌셔</td>\n",
       "      <td>간식</td>\n",
       "      <td>과자</td>\n",
       "      <td>3</td>\n",
       "    </tr>\n",
       "  </tbody>\n",
       "</table>\n",
       "</div>"
      ],
      "text/plain": [
       "  ProductID ProductName Category SubCategory  CategoryOrd\n",
       "0  p1052661         새우깡       간식          과자            3\n",
       "1  p1054261       고구마스틱       간식          과자            3\n",
       "2  p1097821          짱구       간식          과자            3\n",
       "3  p1097831         감자칩       간식          과자            3\n",
       "4  p1119071        뿌셔뿌셔       간식          과자            3"
      ]
     },
     "execution_count": 4,
     "metadata": {},
     "output_type": "execute_result"
    }
   ],
   "source": [
    "products.head(5)"
   ]
  },
  {
   "cell_type": "code",
   "execution_count": 5,
   "metadata": {
    "id": "ZWZSrJLXf7dV"
   },
   "outputs": [
    {
     "data": {
      "text/html": [
       "<div>\n",
       "<style scoped>\n",
       "    .dataframe tbody tr th:only-of-type {\n",
       "        vertical-align: middle;\n",
       "    }\n",
       "\n",
       "    .dataframe tbody tr th {\n",
       "        vertical-align: top;\n",
       "    }\n",
       "\n",
       "    .dataframe thead th {\n",
       "        text-align: right;\n",
       "    }\n",
       "</style>\n",
       "<table border=\"1\" class=\"dataframe\">\n",
       "  <thead>\n",
       "    <tr style=\"text-align: right;\">\n",
       "      <th></th>\n",
       "      <th>CustomerID</th>\n",
       "      <th>RegisterDate</th>\n",
       "      <th>Gender</th>\n",
       "      <th>BirthYear</th>\n",
       "    </tr>\n",
       "  </thead>\n",
       "  <tbody>\n",
       "    <tr>\n",
       "      <th>0</th>\n",
       "      <td>c328222</td>\n",
       "      <td>2014-09-25</td>\n",
       "      <td>F</td>\n",
       "      <td>1960</td>\n",
       "    </tr>\n",
       "    <tr>\n",
       "      <th>1</th>\n",
       "      <td>c281448</td>\n",
       "      <td>2013-06-18</td>\n",
       "      <td>F</td>\n",
       "      <td>1974</td>\n",
       "    </tr>\n",
       "    <tr>\n",
       "      <th>2</th>\n",
       "      <td>c038336</td>\n",
       "      <td>2003-10-10</td>\n",
       "      <td>F</td>\n",
       "      <td>1968</td>\n",
       "    </tr>\n",
       "    <tr>\n",
       "      <th>3</th>\n",
       "      <td>c084237</td>\n",
       "      <td>2007-03-09</td>\n",
       "      <td>F</td>\n",
       "      <td>1982</td>\n",
       "    </tr>\n",
       "    <tr>\n",
       "      <th>4</th>\n",
       "      <td>c162600</td>\n",
       "      <td>2010-06-14</td>\n",
       "      <td>F</td>\n",
       "      <td>1978</td>\n",
       "    </tr>\n",
       "  </tbody>\n",
       "</table>\n",
       "</div>"
      ],
      "text/plain": [
       "  CustomerID RegisterDate Gender  BirthYear\n",
       "0    c328222   2014-09-25      F       1960\n",
       "1    c281448   2013-06-18      F       1974\n",
       "2    c038336   2003-10-10      F       1968\n",
       "3    c084237   2007-03-09      F       1982\n",
       "4    c162600   2010-06-14      F       1978"
      ]
     },
     "execution_count": 5,
     "metadata": {},
     "output_type": "execute_result"
    }
   ],
   "source": [
    "customers.head(5)"
   ]
  },
  {
   "cell_type": "markdown",
   "metadata": {
    "id": "jMuRJ6NccVXh"
   },
   "source": [
    "## (2) 데이터 집계, 수정, 조회하기"
   ]
  },
  {
   "cell_type": "markdown",
   "metadata": {
    "id": "DGmzNt-AcVXh"
   },
   "source": [
    "### 1) sales의 ProductID 별 판매량(Qty)과 판매액(Amt)의 합계를 tmp에 저장하고 조회하시오."
   ]
  },
  {
   "cell_type": "code",
   "execution_count": 6,
   "metadata": {
    "id": "BQR_SDN5cVXi"
   },
   "outputs": [
    {
     "name": "stdout",
     "output_type": "stream",
     "text": [
      "            Qty       Amt\n",
      "ProductID                \n",
      "p1001771   1055   3354827\n",
      "p1002841    903  11011541\n",
      "p1005621    906   2601703\n",
      "p1005771   3963   7319963\n",
      "p1005891   5194  10119037\n",
      "...         ...       ...\n",
      "p1246581   2180   2456346\n",
      "p1255281    809    955633\n",
      "p1256521    701   1241545\n",
      "p1284851   2350   6437323\n",
      "p1299491    530   1094319\n",
      "\n",
      "[62 rows x 2 columns]\n"
     ]
    }
   ],
   "source": [
    "temp=sales.groupby('ProductID',as_index=True)[['Qty','Amt']].sum()\n",
    "print(temp)"
   ]
  },
  {
   "cell_type": "markdown",
   "metadata": {
    "id": "DMOy9kfpgVom"
   },
   "source": [
    "### 2)  1번 결과를 판매액 기준 내림차순으로 정렬하고 상위 5개 상품을 조회하시오.  \n",
    "(매출액 상위 5개 상품을 조회하시오.)"
   ]
  },
  {
   "cell_type": "code",
   "execution_count": 8,
   "metadata": {
    "id": "7ZiF4WVMgVon"
   },
   "outputs": [
    {
     "data": {
      "text/html": [
       "<div>\n",
       "<style scoped>\n",
       "    .dataframe tbody tr th:only-of-type {\n",
       "        vertical-align: middle;\n",
       "    }\n",
       "\n",
       "    .dataframe tbody tr th {\n",
       "        vertical-align: top;\n",
       "    }\n",
       "\n",
       "    .dataframe thead th {\n",
       "        text-align: right;\n",
       "    }\n",
       "</style>\n",
       "<table border=\"1\" class=\"dataframe\">\n",
       "  <thead>\n",
       "    <tr style=\"text-align: right;\">\n",
       "      <th></th>\n",
       "      <th>Qty</th>\n",
       "      <th>Amt</th>\n",
       "    </tr>\n",
       "    <tr>\n",
       "      <th>ProductID</th>\n",
       "      <th></th>\n",
       "      <th></th>\n",
       "    </tr>\n",
       "  </thead>\n",
       "  <tbody>\n",
       "    <tr>\n",
       "      <th>p1072601</th>\n",
       "      <td>4058</td>\n",
       "      <td>18129067</td>\n",
       "    </tr>\n",
       "    <tr>\n",
       "      <th>p1178011</th>\n",
       "      <td>1653</td>\n",
       "      <td>14078818</td>\n",
       "    </tr>\n",
       "    <tr>\n",
       "      <th>p1002841</th>\n",
       "      <td>903</td>\n",
       "      <td>11011541</td>\n",
       "    </tr>\n",
       "    <tr>\n",
       "      <th>p1005891</th>\n",
       "      <td>5194</td>\n",
       "      <td>10119037</td>\n",
       "    </tr>\n",
       "    <tr>\n",
       "      <th>p1194801</th>\n",
       "      <td>990</td>\n",
       "      <td>7517664</td>\n",
       "    </tr>\n",
       "  </tbody>\n",
       "</table>\n",
       "</div>"
      ],
      "text/plain": [
       "            Qty       Amt\n",
       "ProductID                \n",
       "p1072601   4058  18129067\n",
       "p1178011   1653  14078818\n",
       "p1002841    903  11011541\n",
       "p1005891   5194  10119037\n",
       "p1194801    990   7517664"
      ]
     },
     "execution_count": 8,
     "metadata": {},
     "output_type": "execute_result"
    }
   ],
   "source": [
    "temp.sort_values(by='Amt',ascending=False).head(5)"
   ]
  },
  {
   "cell_type": "markdown",
   "metadata": {
    "id": "S_sqc9exdaQj"
   },
   "source": [
    "### 3) customers의 성별(Gender) 별 고객 수를 조회하시오."
   ]
  },
  {
   "cell_type": "code",
   "execution_count": 33,
   "metadata": {
    "id": "G6ahip2DdaQr"
   },
   "outputs": [
    {
     "data": {
      "text/html": [
       "<div>\n",
       "<style scoped>\n",
       "    .dataframe tbody tr th:only-of-type {\n",
       "        vertical-align: middle;\n",
       "    }\n",
       "\n",
       "    .dataframe tbody tr th {\n",
       "        vertical-align: top;\n",
       "    }\n",
       "\n",
       "    .dataframe thead th {\n",
       "        text-align: right;\n",
       "    }\n",
       "</style>\n",
       "<table border=\"1\" class=\"dataframe\">\n",
       "  <thead>\n",
       "    <tr style=\"text-align: right;\">\n",
       "      <th></th>\n",
       "      <th>CustomerID</th>\n",
       "      <th>RegisterDate</th>\n",
       "      <th>BirthYear</th>\n",
       "      <th>Age</th>\n",
       "      <th>AgeGroup</th>\n",
       "    </tr>\n",
       "    <tr>\n",
       "      <th>Gender</th>\n",
       "      <th></th>\n",
       "      <th></th>\n",
       "      <th></th>\n",
       "      <th></th>\n",
       "      <th></th>\n",
       "    </tr>\n",
       "  </thead>\n",
       "  <tbody>\n",
       "    <tr>\n",
       "      <th>F</th>\n",
       "      <td>2060</td>\n",
       "      <td>2060</td>\n",
       "      <td>2060</td>\n",
       "      <td>2060</td>\n",
       "      <td>2060</td>\n",
       "    </tr>\n",
       "    <tr>\n",
       "      <th>M</th>\n",
       "      <td>183</td>\n",
       "      <td>183</td>\n",
       "      <td>183</td>\n",
       "      <td>183</td>\n",
       "      <td>183</td>\n",
       "    </tr>\n",
       "  </tbody>\n",
       "</table>\n",
       "</div>"
      ],
      "text/plain": [
       "        CustomerID  RegisterDate  BirthYear   Age  AgeGroup\n",
       "Gender                                                     \n",
       "F             2060          2060       2060  2060      2060\n",
       "M              183           183        183   183       183"
      ]
     },
     "execution_count": 33,
     "metadata": {},
     "output_type": "execute_result"
    }
   ],
   "source": [
    "customers.groupby('Gender',as_index=True).count()"
   ]
  },
  {
   "cell_type": "markdown",
   "metadata": {
    "id": "GMfD-8-gfgFn"
   },
   "source": [
    "### 4) customers의 출생연도(BirthYear) 로 부터 나이(Age)를 계산해서 변수로 추가하시오."
   ]
  },
  {
   "cell_type": "code",
   "execution_count": 31,
   "metadata": {
    "id": "FNgZrhqrfgF1"
   },
   "outputs": [],
   "source": [
    "customers['Age']=(2022-customers['BirthYear'])+1"
   ]
  },
  {
   "cell_type": "code",
   "execution_count": 21,
   "metadata": {},
   "outputs": [
    {
     "data": {
      "text/html": [
       "<div>\n",
       "<style scoped>\n",
       "    .dataframe tbody tr th:only-of-type {\n",
       "        vertical-align: middle;\n",
       "    }\n",
       "\n",
       "    .dataframe tbody tr th {\n",
       "        vertical-align: top;\n",
       "    }\n",
       "\n",
       "    .dataframe thead th {\n",
       "        text-align: right;\n",
       "    }\n",
       "</style>\n",
       "<table border=\"1\" class=\"dataframe\">\n",
       "  <thead>\n",
       "    <tr style=\"text-align: right;\">\n",
       "      <th></th>\n",
       "      <th>CustomerID</th>\n",
       "      <th>RegisterDate</th>\n",
       "      <th>Gender</th>\n",
       "      <th>BirthYear</th>\n",
       "      <th>Age</th>\n",
       "    </tr>\n",
       "  </thead>\n",
       "  <tbody>\n",
       "    <tr>\n",
       "      <th>0</th>\n",
       "      <td>c328222</td>\n",
       "      <td>2014-09-25</td>\n",
       "      <td>F</td>\n",
       "      <td>1960</td>\n",
       "      <td>63</td>\n",
       "    </tr>\n",
       "    <tr>\n",
       "      <th>1</th>\n",
       "      <td>c281448</td>\n",
       "      <td>2013-06-18</td>\n",
       "      <td>F</td>\n",
       "      <td>1974</td>\n",
       "      <td>49</td>\n",
       "    </tr>\n",
       "    <tr>\n",
       "      <th>2</th>\n",
       "      <td>c038336</td>\n",
       "      <td>2003-10-10</td>\n",
       "      <td>F</td>\n",
       "      <td>1968</td>\n",
       "      <td>55</td>\n",
       "    </tr>\n",
       "    <tr>\n",
       "      <th>3</th>\n",
       "      <td>c084237</td>\n",
       "      <td>2007-03-09</td>\n",
       "      <td>F</td>\n",
       "      <td>1982</td>\n",
       "      <td>41</td>\n",
       "    </tr>\n",
       "    <tr>\n",
       "      <th>4</th>\n",
       "      <td>c162600</td>\n",
       "      <td>2010-06-14</td>\n",
       "      <td>F</td>\n",
       "      <td>1978</td>\n",
       "      <td>45</td>\n",
       "    </tr>\n",
       "  </tbody>\n",
       "</table>\n",
       "</div>"
      ],
      "text/plain": [
       "  CustomerID RegisterDate Gender  BirthYear  Age\n",
       "0    c328222   2014-09-25      F       1960   63\n",
       "1    c281448   2013-06-18      F       1974   49\n",
       "2    c038336   2003-10-10      F       1968   55\n",
       "3    c084237   2007-03-09      F       1982   41\n",
       "4    c162600   2010-06-14      F       1978   45"
      ]
     },
     "execution_count": 21,
     "metadata": {},
     "output_type": "execute_result"
    }
   ],
   "source": [
    "customers.head()"
   ]
  },
  {
   "cell_type": "markdown",
   "metadata": {
    "id": "HojPPCg-hKbo"
   },
   "source": [
    "### 5) customers의 나이(Age)를 나이대(AgeGroup)로 변환하시오.\n",
    "\n",
    "* [ , 30)  : 30미만\n",
    "* [30, 40) : 30대\n",
    "* [40, 50) : 40대\n",
    "* [50, 60) : 50대\n",
    "* [60, 70) : 60대\n",
    "* [70, )   : 70이상\n",
    "\n",
    "> [30, 40) 의 의미 : 30 <= ,  < 40"
   ]
  },
  {
   "cell_type": "code",
   "execution_count": 32,
   "metadata": {
    "id": "84Qi9owGhKbp"
   },
   "outputs": [
    {
     "data": {
      "text/html": [
       "<div>\n",
       "<style scoped>\n",
       "    .dataframe tbody tr th:only-of-type {\n",
       "        vertical-align: middle;\n",
       "    }\n",
       "\n",
       "    .dataframe tbody tr th {\n",
       "        vertical-align: top;\n",
       "    }\n",
       "\n",
       "    .dataframe thead th {\n",
       "        text-align: right;\n",
       "    }\n",
       "</style>\n",
       "<table border=\"1\" class=\"dataframe\">\n",
       "  <thead>\n",
       "    <tr style=\"text-align: right;\">\n",
       "      <th></th>\n",
       "      <th>CustomerID</th>\n",
       "      <th>RegisterDate</th>\n",
       "      <th>Gender</th>\n",
       "      <th>BirthYear</th>\n",
       "      <th>Age</th>\n",
       "      <th>AgeGroup</th>\n",
       "    </tr>\n",
       "  </thead>\n",
       "  <tbody>\n",
       "    <tr>\n",
       "      <th>0</th>\n",
       "      <td>c328222</td>\n",
       "      <td>2014-09-25</td>\n",
       "      <td>F</td>\n",
       "      <td>1960</td>\n",
       "      <td>63</td>\n",
       "      <td>60대</td>\n",
       "    </tr>\n",
       "    <tr>\n",
       "      <th>1</th>\n",
       "      <td>c281448</td>\n",
       "      <td>2013-06-18</td>\n",
       "      <td>F</td>\n",
       "      <td>1974</td>\n",
       "      <td>49</td>\n",
       "      <td>40대</td>\n",
       "    </tr>\n",
       "    <tr>\n",
       "      <th>2</th>\n",
       "      <td>c038336</td>\n",
       "      <td>2003-10-10</td>\n",
       "      <td>F</td>\n",
       "      <td>1968</td>\n",
       "      <td>55</td>\n",
       "      <td>50대</td>\n",
       "    </tr>\n",
       "    <tr>\n",
       "      <th>3</th>\n",
       "      <td>c084237</td>\n",
       "      <td>2007-03-09</td>\n",
       "      <td>F</td>\n",
       "      <td>1982</td>\n",
       "      <td>41</td>\n",
       "      <td>40대</td>\n",
       "    </tr>\n",
       "    <tr>\n",
       "      <th>4</th>\n",
       "      <td>c162600</td>\n",
       "      <td>2010-06-14</td>\n",
       "      <td>F</td>\n",
       "      <td>1978</td>\n",
       "      <td>45</td>\n",
       "      <td>40대</td>\n",
       "    </tr>\n",
       "  </tbody>\n",
       "</table>\n",
       "</div>"
      ],
      "text/plain": [
       "  CustomerID RegisterDate Gender  BirthYear  Age AgeGroup\n",
       "0    c328222   2014-09-25      F       1960   63      60대\n",
       "1    c281448   2013-06-18      F       1974   49      40대\n",
       "2    c038336   2003-10-10      F       1968   55      50대\n",
       "3    c084237   2007-03-09      F       1982   41      40대\n",
       "4    c162600   2010-06-14      F       1978   45      40대"
      ]
     },
     "execution_count": 32,
     "metadata": {},
     "output_type": "execute_result"
    }
   ],
   "source": [
    "bin=[0,30,40,50,60,70,np.inf]\n",
    "labels=['30대미만','30대','40대','50대','60대','70대이상']\n",
    "customers['AgeGroup']=pd.cut(customers['Age'],bins=bin,labels=labels)\n",
    "\n",
    "customers.head()"
   ]
  },
  {
   "cell_type": "markdown",
   "metadata": {
    "id": "dQFlWG09jq7x"
   },
   "source": [
    "### 6) customers의 나이대(AgeGroup) 별 고객수를 구해 봅시다."
   ]
  },
  {
   "cell_type": "code",
   "execution_count": 35,
   "metadata": {
    "id": "gsnU0dfkjq7y"
   },
   "outputs": [
    {
     "data": {
      "text/html": [
       "<div>\n",
       "<style scoped>\n",
       "    .dataframe tbody tr th:only-of-type {\n",
       "        vertical-align: middle;\n",
       "    }\n",
       "\n",
       "    .dataframe tbody tr th {\n",
       "        vertical-align: top;\n",
       "    }\n",
       "\n",
       "    .dataframe thead th {\n",
       "        text-align: right;\n",
       "    }\n",
       "</style>\n",
       "<table border=\"1\" class=\"dataframe\">\n",
       "  <thead>\n",
       "    <tr style=\"text-align: right;\">\n",
       "      <th></th>\n",
       "      <th>AgeGroup</th>\n",
       "      <th>CustomerID</th>\n",
       "      <th>RegisterDate</th>\n",
       "      <th>Gender</th>\n",
       "      <th>BirthYear</th>\n",
       "      <th>Age</th>\n",
       "    </tr>\n",
       "  </thead>\n",
       "  <tbody>\n",
       "    <tr>\n",
       "      <th>0</th>\n",
       "      <td>30대미만</td>\n",
       "      <td>6</td>\n",
       "      <td>6</td>\n",
       "      <td>6</td>\n",
       "      <td>6</td>\n",
       "      <td>6</td>\n",
       "    </tr>\n",
       "    <tr>\n",
       "      <th>1</th>\n",
       "      <td>30대</td>\n",
       "      <td>186</td>\n",
       "      <td>186</td>\n",
       "      <td>186</td>\n",
       "      <td>186</td>\n",
       "      <td>186</td>\n",
       "    </tr>\n",
       "    <tr>\n",
       "      <th>2</th>\n",
       "      <td>40대</td>\n",
       "      <td>925</td>\n",
       "      <td>925</td>\n",
       "      <td>925</td>\n",
       "      <td>925</td>\n",
       "      <td>925</td>\n",
       "    </tr>\n",
       "    <tr>\n",
       "      <th>3</th>\n",
       "      <td>50대</td>\n",
       "      <td>749</td>\n",
       "      <td>749</td>\n",
       "      <td>749</td>\n",
       "      <td>749</td>\n",
       "      <td>749</td>\n",
       "    </tr>\n",
       "    <tr>\n",
       "      <th>4</th>\n",
       "      <td>60대</td>\n",
       "      <td>267</td>\n",
       "      <td>267</td>\n",
       "      <td>267</td>\n",
       "      <td>267</td>\n",
       "      <td>267</td>\n",
       "    </tr>\n",
       "    <tr>\n",
       "      <th>5</th>\n",
       "      <td>70대이상</td>\n",
       "      <td>110</td>\n",
       "      <td>110</td>\n",
       "      <td>110</td>\n",
       "      <td>110</td>\n",
       "      <td>110</td>\n",
       "    </tr>\n",
       "  </tbody>\n",
       "</table>\n",
       "</div>"
      ],
      "text/plain": [
       "  AgeGroup  CustomerID  RegisterDate  Gender  BirthYear  Age\n",
       "0    30대미만           6             6       6          6    6\n",
       "1      30대         186           186     186        186  186\n",
       "2      40대         925           925     925        925  925\n",
       "3      50대         749           749     749        749  749\n",
       "4      60대         267           267     267        267  267\n",
       "5    70대이상         110           110     110        110  110"
      ]
     },
     "execution_count": 35,
     "metadata": {},
     "output_type": "execute_result"
    }
   ],
   "source": [
    "customers.groupby('AgeGroup',as_index=False).count()"
   ]
  },
  {
   "cell_type": "markdown",
   "metadata": {
    "id": "bdHV4xvlj_LN"
   },
   "source": [
    "### 7) 매출액 top 5 상품명을 조회해 봅시다.\n",
    "\n",
    "* 매출액은 sales에 있고, 상품명은 products에 있습니다. 한꺼번에 조회하려면 merge를 사용해야 합니다.\n",
    "    * 1) sales와 products를 ProductID 기준으로 inner 조인을 합시다.\n",
    "    * 2) 상품명 별 매출액 합계를 집계합니다. \n",
    "    * 3) 매출액 합계 기준 내림차순으로 정렬하고 top 5를 조죄합니다.\n"
   ]
  },
  {
   "cell_type": "code",
   "execution_count": 36,
   "metadata": {
    "id": "KnEZgZtDj_LO"
   },
   "outputs": [
    {
     "data": {
      "text/html": [
       "<div>\n",
       "<style scoped>\n",
       "    .dataframe tbody tr th:only-of-type {\n",
       "        vertical-align: middle;\n",
       "    }\n",
       "\n",
       "    .dataframe tbody tr th {\n",
       "        vertical-align: top;\n",
       "    }\n",
       "\n",
       "    .dataframe thead th {\n",
       "        text-align: right;\n",
       "    }\n",
       "</style>\n",
       "<table border=\"1\" class=\"dataframe\">\n",
       "  <thead>\n",
       "    <tr style=\"text-align: right;\">\n",
       "      <th></th>\n",
       "      <th>OrderID</th>\n",
       "      <th>Seq</th>\n",
       "      <th>OrderDate</th>\n",
       "      <th>ProductID</th>\n",
       "      <th>Qty</th>\n",
       "      <th>Amt</th>\n",
       "      <th>CustomerID</th>\n",
       "      <th>ProductName</th>\n",
       "      <th>Category</th>\n",
       "      <th>SubCategory</th>\n",
       "      <th>CategoryOrd</th>\n",
       "    </tr>\n",
       "  </thead>\n",
       "  <tbody>\n",
       "    <tr>\n",
       "      <th>0</th>\n",
       "      <td>107</td>\n",
       "      <td>2</td>\n",
       "      <td>2016-01-02</td>\n",
       "      <td>p1036481</td>\n",
       "      <td>2</td>\n",
       "      <td>2100</td>\n",
       "      <td>c150417</td>\n",
       "      <td>순두부</td>\n",
       "      <td>반찬류</td>\n",
       "      <td>두부</td>\n",
       "      <td>1</td>\n",
       "    </tr>\n",
       "    <tr>\n",
       "      <th>1</th>\n",
       "      <td>137</td>\n",
       "      <td>4</td>\n",
       "      <td>2016-01-02</td>\n",
       "      <td>p1036481</td>\n",
       "      <td>2</td>\n",
       "      <td>2100</td>\n",
       "      <td>c280590</td>\n",
       "      <td>순두부</td>\n",
       "      <td>반찬류</td>\n",
       "      <td>두부</td>\n",
       "      <td>1</td>\n",
       "    </tr>\n",
       "    <tr>\n",
       "      <th>2</th>\n",
       "      <td>63</td>\n",
       "      <td>16</td>\n",
       "      <td>2016-01-03</td>\n",
       "      <td>p1036481</td>\n",
       "      <td>1</td>\n",
       "      <td>1050</td>\n",
       "      <td>c037915</td>\n",
       "      <td>순두부</td>\n",
       "      <td>반찬류</td>\n",
       "      <td>두부</td>\n",
       "      <td>1</td>\n",
       "    </tr>\n",
       "    <tr>\n",
       "      <th>3</th>\n",
       "      <td>135</td>\n",
       "      <td>3</td>\n",
       "      <td>2016-01-04</td>\n",
       "      <td>p1036481</td>\n",
       "      <td>3</td>\n",
       "      <td>3150</td>\n",
       "      <td>c100815</td>\n",
       "      <td>순두부</td>\n",
       "      <td>반찬류</td>\n",
       "      <td>두부</td>\n",
       "      <td>1</td>\n",
       "    </tr>\n",
       "    <tr>\n",
       "      <th>4</th>\n",
       "      <td>63</td>\n",
       "      <td>13</td>\n",
       "      <td>2016-01-06</td>\n",
       "      <td>p1036481</td>\n",
       "      <td>10</td>\n",
       "      <td>10500</td>\n",
       "      <td>c048405</td>\n",
       "      <td>순두부</td>\n",
       "      <td>반찬류</td>\n",
       "      <td>두부</td>\n",
       "      <td>1</td>\n",
       "    </tr>\n",
       "  </tbody>\n",
       "</table>\n",
       "</div>"
      ],
      "text/plain": [
       "   OrderID  Seq   OrderDate ProductID  Qty    Amt CustomerID ProductName  \\\n",
       "0      107    2  2016-01-02  p1036481    2   2100    c150417         순두부   \n",
       "1      137    4  2016-01-02  p1036481    2   2100    c280590         순두부   \n",
       "2       63   16  2016-01-03  p1036481    1   1050    c037915         순두부   \n",
       "3      135    3  2016-01-04  p1036481    3   3150    c100815         순두부   \n",
       "4       63   13  2016-01-06  p1036481   10  10500    c048405         순두부   \n",
       "\n",
       "  Category SubCategory  CategoryOrd  \n",
       "0      반찬류          두부            1  \n",
       "1      반찬류          두부            1  \n",
       "2      반찬류          두부            1  \n",
       "3      반찬류          두부            1  \n",
       "4      반찬류          두부            1  "
      ]
     },
     "execution_count": 36,
     "metadata": {},
     "output_type": "execute_result"
    }
   ],
   "source": [
    "# 1) sales와 products를 ProductID 기준으로 inner 조인을 합시다.\n",
    "\n",
    "sales_p=pd.merge(sales,products,on='ProductID',how='inner')\n",
    "sales_p.head()"
   ]
  },
  {
   "cell_type": "code",
   "execution_count": 37,
   "metadata": {
    "id": "phaevIemkura"
   },
   "outputs": [
    {
     "data": {
      "text/html": [
       "<div>\n",
       "<style scoped>\n",
       "    .dataframe tbody tr th:only-of-type {\n",
       "        vertical-align: middle;\n",
       "    }\n",
       "\n",
       "    .dataframe tbody tr th {\n",
       "        vertical-align: top;\n",
       "    }\n",
       "\n",
       "    .dataframe thead th {\n",
       "        text-align: right;\n",
       "    }\n",
       "</style>\n",
       "<table border=\"1\" class=\"dataframe\">\n",
       "  <thead>\n",
       "    <tr style=\"text-align: right;\">\n",
       "      <th></th>\n",
       "      <th>ProductName</th>\n",
       "      <th>Amt</th>\n",
       "    </tr>\n",
       "  </thead>\n",
       "  <tbody>\n",
       "    <tr>\n",
       "      <th>0</th>\n",
       "      <td>감귤컵푸딩</td>\n",
       "      <td>677154</td>\n",
       "    </tr>\n",
       "    <tr>\n",
       "      <th>1</th>\n",
       "      <td>감자칩</td>\n",
       "      <td>3676518</td>\n",
       "    </tr>\n",
       "    <tr>\n",
       "      <th>2</th>\n",
       "      <td>고구마스틱</td>\n",
       "      <td>1620986</td>\n",
       "    </tr>\n",
       "    <tr>\n",
       "      <th>3</th>\n",
       "      <td>깻잎</td>\n",
       "      <td>2930359</td>\n",
       "    </tr>\n",
       "    <tr>\n",
       "      <th>4</th>\n",
       "      <td>낱개캔디</td>\n",
       "      <td>479197</td>\n",
       "    </tr>\n",
       "  </tbody>\n",
       "</table>\n",
       "</div>"
      ],
      "text/plain": [
       "  ProductName      Amt\n",
       "0       감귤컵푸딩   677154\n",
       "1         감자칩  3676518\n",
       "2       고구마스틱  1620986\n",
       "3          깻잎  2930359\n",
       "4        낱개캔디   479197"
      ]
     },
     "execution_count": 37,
     "metadata": {},
     "output_type": "execute_result"
    }
   ],
   "source": [
    "# 2) 2) 상품명 별 매출액 합계를 집계합니다.\n",
    "temp=sales_p.groupby('ProductName',as_index=False)[['Amt']].sum()\n",
    "temp.head()"
   ]
  },
  {
   "cell_type": "code",
   "execution_count": 39,
   "metadata": {
    "id": "NRC5dKFolIWf"
   },
   "outputs": [
    {
     "data": {
      "text/html": [
       "<div>\n",
       "<style scoped>\n",
       "    .dataframe tbody tr th:only-of-type {\n",
       "        vertical-align: middle;\n",
       "    }\n",
       "\n",
       "    .dataframe tbody tr th {\n",
       "        vertical-align: top;\n",
       "    }\n",
       "\n",
       "    .dataframe thead th {\n",
       "        text-align: right;\n",
       "    }\n",
       "</style>\n",
       "<table border=\"1\" class=\"dataframe\">\n",
       "  <thead>\n",
       "    <tr style=\"text-align: right;\">\n",
       "      <th></th>\n",
       "      <th>ProductName</th>\n",
       "      <th>Amt</th>\n",
       "    </tr>\n",
       "  </thead>\n",
       "  <tbody>\n",
       "    <tr>\n",
       "      <th>37</th>\n",
       "      <td>우유1000</td>\n",
       "      <td>18129067</td>\n",
       "    </tr>\n",
       "    <tr>\n",
       "      <th>23</th>\n",
       "      <td>사과_소</td>\n",
       "      <td>14078818</td>\n",
       "    </tr>\n",
       "    <tr>\n",
       "      <th>9</th>\n",
       "      <td>딸기_대</td>\n",
       "      <td>11011541</td>\n",
       "    </tr>\n",
       "    <tr>\n",
       "      <th>7</th>\n",
       "      <td>두부_대</td>\n",
       "      <td>10119037</td>\n",
       "    </tr>\n",
       "    <tr>\n",
       "      <th>10</th>\n",
       "      <td>딸기_소</td>\n",
       "      <td>7517664</td>\n",
       "    </tr>\n",
       "  </tbody>\n",
       "</table>\n",
       "</div>"
      ],
      "text/plain": [
       "   ProductName       Amt\n",
       "37      우유1000  18129067\n",
       "23        사과_소  14078818\n",
       "9         딸기_대  11011541\n",
       "7         두부_대  10119037\n",
       "10        딸기_소   7517664"
      ]
     },
     "execution_count": 39,
     "metadata": {},
     "output_type": "execute_result"
    }
   ],
   "source": [
    "# 3) 매출액 합계 기준 내림차순으로 정렬하고 top 5를 조죄합니다.\n",
    "temp.sort_values('Amt',ascending=False).head(5)"
   ]
  },
  {
   "cell_type": "markdown",
   "metadata": {
    "id": "AxRB-sH7lX-f"
   },
   "source": [
    "### 8) 연령대 별 매출액을 조회합시다.\n",
    "\n",
    "* 매출액은 sales에 있고, 연령대(AgeGroup)은 customers에 있습니다. 한꺼번에 조회하려면 merge를 사용해야 합니다.\n"
   ]
  },
  {
   "cell_type": "code",
   "execution_count": 40,
   "metadata": {
    "id": "9xsL0f0IlX-g"
   },
   "outputs": [
    {
     "data": {
      "text/html": [
       "<div>\n",
       "<style scoped>\n",
       "    .dataframe tbody tr th:only-of-type {\n",
       "        vertical-align: middle;\n",
       "    }\n",
       "\n",
       "    .dataframe tbody tr th {\n",
       "        vertical-align: top;\n",
       "    }\n",
       "\n",
       "    .dataframe thead th {\n",
       "        text-align: right;\n",
       "    }\n",
       "</style>\n",
       "<table border=\"1\" class=\"dataframe\">\n",
       "  <thead>\n",
       "    <tr style=\"text-align: right;\">\n",
       "      <th></th>\n",
       "      <th>OrderID</th>\n",
       "      <th>Seq</th>\n",
       "      <th>OrderDate</th>\n",
       "      <th>ProductID</th>\n",
       "      <th>Qty</th>\n",
       "      <th>Amt</th>\n",
       "      <th>CustomerID</th>\n",
       "      <th>RegisterDate</th>\n",
       "      <th>Gender</th>\n",
       "      <th>BirthYear</th>\n",
       "      <th>Age</th>\n",
       "      <th>AgeGroup</th>\n",
       "    </tr>\n",
       "  </thead>\n",
       "  <tbody>\n",
       "    <tr>\n",
       "      <th>0</th>\n",
       "      <td>107</td>\n",
       "      <td>2</td>\n",
       "      <td>2016-01-02</td>\n",
       "      <td>p1036481</td>\n",
       "      <td>2</td>\n",
       "      <td>2100</td>\n",
       "      <td>c150417</td>\n",
       "      <td>2010-03-03</td>\n",
       "      <td>F</td>\n",
       "      <td>1974</td>\n",
       "      <td>49</td>\n",
       "      <td>40대</td>\n",
       "    </tr>\n",
       "    <tr>\n",
       "      <th>1</th>\n",
       "      <td>107</td>\n",
       "      <td>1</td>\n",
       "      <td>2016-01-02</td>\n",
       "      <td>p1175481</td>\n",
       "      <td>1</td>\n",
       "      <td>1300</td>\n",
       "      <td>c150417</td>\n",
       "      <td>2010-03-03</td>\n",
       "      <td>F</td>\n",
       "      <td>1974</td>\n",
       "      <td>49</td>\n",
       "      <td>40대</td>\n",
       "    </tr>\n",
       "    <tr>\n",
       "      <th>2</th>\n",
       "      <td>185</td>\n",
       "      <td>1</td>\n",
       "      <td>2016-01-04</td>\n",
       "      <td>p1162631</td>\n",
       "      <td>1</td>\n",
       "      <td>4600</td>\n",
       "      <td>c150417</td>\n",
       "      <td>2010-03-03</td>\n",
       "      <td>F</td>\n",
       "      <td>1974</td>\n",
       "      <td>49</td>\n",
       "      <td>40대</td>\n",
       "    </tr>\n",
       "    <tr>\n",
       "      <th>3</th>\n",
       "      <td>67</td>\n",
       "      <td>2</td>\n",
       "      <td>2016-01-11</td>\n",
       "      <td>p1012751</td>\n",
       "      <td>1</td>\n",
       "      <td>1350</td>\n",
       "      <td>c150417</td>\n",
       "      <td>2010-03-03</td>\n",
       "      <td>F</td>\n",
       "      <td>1974</td>\n",
       "      <td>49</td>\n",
       "      <td>40대</td>\n",
       "    </tr>\n",
       "    <tr>\n",
       "      <th>4</th>\n",
       "      <td>201</td>\n",
       "      <td>3</td>\n",
       "      <td>2016-01-12</td>\n",
       "      <td>p1005891</td>\n",
       "      <td>1</td>\n",
       "      <td>1950</td>\n",
       "      <td>c150417</td>\n",
       "      <td>2010-03-03</td>\n",
       "      <td>F</td>\n",
       "      <td>1974</td>\n",
       "      <td>49</td>\n",
       "      <td>40대</td>\n",
       "    </tr>\n",
       "  </tbody>\n",
       "</table>\n",
       "</div>"
      ],
      "text/plain": [
       "   OrderID  Seq   OrderDate ProductID  Qty   Amt CustomerID RegisterDate  \\\n",
       "0      107    2  2016-01-02  p1036481    2  2100    c150417   2010-03-03   \n",
       "1      107    1  2016-01-02  p1175481    1  1300    c150417   2010-03-03   \n",
       "2      185    1  2016-01-04  p1162631    1  4600    c150417   2010-03-03   \n",
       "3       67    2  2016-01-11  p1012751    1  1350    c150417   2010-03-03   \n",
       "4      201    3  2016-01-12  p1005891    1  1950    c150417   2010-03-03   \n",
       "\n",
       "  Gender  BirthYear  Age AgeGroup  \n",
       "0      F       1974   49      40대  \n",
       "1      F       1974   49      40대  \n",
       "2      F       1974   49      40대  \n",
       "3      F       1974   49      40대  \n",
       "4      F       1974   49      40대  "
      ]
     },
     "execution_count": 40,
     "metadata": {},
     "output_type": "execute_result"
    }
   ],
   "source": [
    "# 1) sales와 customers를  CustomerID 기준으로 inner 조인을 합시다.\n",
    "sales_c=pd.merge(sales,customers,on='CustomerID',how='inner')\n",
    "sales_c.head()"
   ]
  },
  {
   "cell_type": "code",
   "execution_count": 41,
   "metadata": {
    "id": "5VJpAGqzlX-h"
   },
   "outputs": [
    {
     "data": {
      "text/html": [
       "<div>\n",
       "<style scoped>\n",
       "    .dataframe tbody tr th:only-of-type {\n",
       "        vertical-align: middle;\n",
       "    }\n",
       "\n",
       "    .dataframe tbody tr th {\n",
       "        vertical-align: top;\n",
       "    }\n",
       "\n",
       "    .dataframe thead th {\n",
       "        text-align: right;\n",
       "    }\n",
       "</style>\n",
       "<table border=\"1\" class=\"dataframe\">\n",
       "  <thead>\n",
       "    <tr style=\"text-align: right;\">\n",
       "      <th></th>\n",
       "      <th>AgeGroup</th>\n",
       "      <th>Amt</th>\n",
       "    </tr>\n",
       "  </thead>\n",
       "  <tbody>\n",
       "    <tr>\n",
       "      <th>0</th>\n",
       "      <td>30대미만</td>\n",
       "      <td>167539</td>\n",
       "    </tr>\n",
       "    <tr>\n",
       "      <th>1</th>\n",
       "      <td>30대</td>\n",
       "      <td>11730152</td>\n",
       "    </tr>\n",
       "    <tr>\n",
       "      <th>2</th>\n",
       "      <td>40대</td>\n",
       "      <td>86042546</td>\n",
       "    </tr>\n",
       "    <tr>\n",
       "      <th>3</th>\n",
       "      <td>50대</td>\n",
       "      <td>70047957</td>\n",
       "    </tr>\n",
       "    <tr>\n",
       "      <th>4</th>\n",
       "      <td>60대</td>\n",
       "      <td>19286478</td>\n",
       "    </tr>\n",
       "  </tbody>\n",
       "</table>\n",
       "</div>"
      ],
      "text/plain": [
       "  AgeGroup       Amt\n",
       "0    30대미만    167539\n",
       "1      30대  11730152\n",
       "2      40대  86042546\n",
       "3      50대  70047957\n",
       "4      60대  19286478"
      ]
     },
     "execution_count": 41,
     "metadata": {},
     "output_type": "execute_result"
    }
   ],
   "source": [
    "# 2) AgeGroup 별 매출액 합계를 집계합니다.\n",
    "temp=sales_c.groupby('AgeGroup',as_index=False)[['Amt']].sum()\n",
    "temp.head()"
   ]
  },
  {
   "cell_type": "markdown",
   "metadata": {
    "id": "giPbG_fcmZ9u"
   },
   "source": [
    "### 9) [심화]연령대 별, 상품 카테고리 매출 비중(%)을 조회합시다.\n",
    "\n",
    "* 1) 세 데이터프레임을 merge 해야 합니다.\n",
    "    * merge는 한번에 두개씩만 가능하므로, 두번 수행합니다.\n",
    "* 2) for loop를 이용하여, 각 연령대에 대해서 다음의 작업을 반복 수행합니다. \n",
    "    * 하나의 연령대 값에 대해서, \n",
    "        * 상품 카테고리(Category)별 매출액 합계를 구합니다.\n",
    "        * 연령대에 해당하는 전체 매출액으로 나눠서, 카테고리별 비율을 계산합니다.\n",
    "        * 결과를 출력합니다.\n",
    "\n"
   ]
  },
  {
   "cell_type": "code",
   "execution_count": 42,
   "metadata": {
    "id": "r2JNeeWamZ9v"
   },
   "outputs": [
    {
     "data": {
      "text/html": [
       "<div>\n",
       "<style scoped>\n",
       "    .dataframe tbody tr th:only-of-type {\n",
       "        vertical-align: middle;\n",
       "    }\n",
       "\n",
       "    .dataframe tbody tr th {\n",
       "        vertical-align: top;\n",
       "    }\n",
       "\n",
       "    .dataframe thead th {\n",
       "        text-align: right;\n",
       "    }\n",
       "</style>\n",
       "<table border=\"1\" class=\"dataframe\">\n",
       "  <thead>\n",
       "    <tr style=\"text-align: right;\">\n",
       "      <th></th>\n",
       "      <th>OrderID</th>\n",
       "      <th>Seq</th>\n",
       "      <th>OrderDate</th>\n",
       "      <th>ProductID</th>\n",
       "      <th>Qty</th>\n",
       "      <th>Amt</th>\n",
       "      <th>CustomerID</th>\n",
       "      <th>ProductName</th>\n",
       "      <th>Category</th>\n",
       "      <th>SubCategory</th>\n",
       "      <th>CategoryOrd</th>\n",
       "      <th>RegisterDate</th>\n",
       "      <th>Gender</th>\n",
       "      <th>BirthYear</th>\n",
       "      <th>Age</th>\n",
       "      <th>AgeGroup</th>\n",
       "    </tr>\n",
       "  </thead>\n",
       "  <tbody>\n",
       "    <tr>\n",
       "      <th>0</th>\n",
       "      <td>107</td>\n",
       "      <td>2</td>\n",
       "      <td>2016-01-02</td>\n",
       "      <td>p1036481</td>\n",
       "      <td>2</td>\n",
       "      <td>2100</td>\n",
       "      <td>c150417</td>\n",
       "      <td>순두부</td>\n",
       "      <td>반찬류</td>\n",
       "      <td>두부</td>\n",
       "      <td>1</td>\n",
       "      <td>2010-03-03</td>\n",
       "      <td>F</td>\n",
       "      <td>1974</td>\n",
       "      <td>49</td>\n",
       "      <td>40대</td>\n",
       "    </tr>\n",
       "    <tr>\n",
       "      <th>1</th>\n",
       "      <td>197</td>\n",
       "      <td>5</td>\n",
       "      <td>2017-01-24</td>\n",
       "      <td>p1036481</td>\n",
       "      <td>1</td>\n",
       "      <td>1050</td>\n",
       "      <td>c150417</td>\n",
       "      <td>순두부</td>\n",
       "      <td>반찬류</td>\n",
       "      <td>두부</td>\n",
       "      <td>1</td>\n",
       "      <td>2010-03-03</td>\n",
       "      <td>F</td>\n",
       "      <td>1974</td>\n",
       "      <td>49</td>\n",
       "      <td>40대</td>\n",
       "    </tr>\n",
       "    <tr>\n",
       "      <th>2</th>\n",
       "      <td>251</td>\n",
       "      <td>4</td>\n",
       "      <td>2016-07-15</td>\n",
       "      <td>p1152861</td>\n",
       "      <td>2</td>\n",
       "      <td>2182</td>\n",
       "      <td>c150417</td>\n",
       "      <td>포토아이스크림</td>\n",
       "      <td>유제품</td>\n",
       "      <td>아이스크림</td>\n",
       "      <td>4</td>\n",
       "      <td>2010-03-03</td>\n",
       "      <td>F</td>\n",
       "      <td>1974</td>\n",
       "      <td>49</td>\n",
       "      <td>40대</td>\n",
       "    </tr>\n",
       "    <tr>\n",
       "      <th>3</th>\n",
       "      <td>71</td>\n",
       "      <td>10</td>\n",
       "      <td>2016-01-22</td>\n",
       "      <td>p1013161</td>\n",
       "      <td>1</td>\n",
       "      <td>2900</td>\n",
       "      <td>c150417</td>\n",
       "      <td>느타리버섯</td>\n",
       "      <td>채소</td>\n",
       "      <td>버섯</td>\n",
       "      <td>5</td>\n",
       "      <td>2010-03-03</td>\n",
       "      <td>F</td>\n",
       "      <td>1974</td>\n",
       "      <td>49</td>\n",
       "      <td>40대</td>\n",
       "    </tr>\n",
       "    <tr>\n",
       "      <th>4</th>\n",
       "      <td>69</td>\n",
       "      <td>7</td>\n",
       "      <td>2016-09-13</td>\n",
       "      <td>p1013161</td>\n",
       "      <td>1</td>\n",
       "      <td>2950</td>\n",
       "      <td>c150417</td>\n",
       "      <td>느타리버섯</td>\n",
       "      <td>채소</td>\n",
       "      <td>버섯</td>\n",
       "      <td>5</td>\n",
       "      <td>2010-03-03</td>\n",
       "      <td>F</td>\n",
       "      <td>1974</td>\n",
       "      <td>49</td>\n",
       "      <td>40대</td>\n",
       "    </tr>\n",
       "  </tbody>\n",
       "</table>\n",
       "</div>"
      ],
      "text/plain": [
       "   OrderID  Seq   OrderDate ProductID  Qty   Amt CustomerID ProductName  \\\n",
       "0      107    2  2016-01-02  p1036481    2  2100    c150417         순두부   \n",
       "1      197    5  2017-01-24  p1036481    1  1050    c150417         순두부   \n",
       "2      251    4  2016-07-15  p1152861    2  2182    c150417     포토아이스크림   \n",
       "3       71   10  2016-01-22  p1013161    1  2900    c150417       느타리버섯   \n",
       "4       69    7  2016-09-13  p1013161    1  2950    c150417       느타리버섯   \n",
       "\n",
       "  Category SubCategory  CategoryOrd RegisterDate Gender  BirthYear  Age  \\\n",
       "0      반찬류          두부            1   2010-03-03      F       1974   49   \n",
       "1      반찬류          두부            1   2010-03-03      F       1974   49   \n",
       "2      유제품       아이스크림            4   2010-03-03      F       1974   49   \n",
       "3       채소          버섯            5   2010-03-03      F       1974   49   \n",
       "4       채소          버섯            5   2010-03-03      F       1974   49   \n",
       "\n",
       "  AgeGroup  \n",
       "0      40대  \n",
       "1      40대  \n",
       "2      40대  \n",
       "3      40대  \n",
       "4      40대  "
      ]
     },
     "execution_count": 42,
     "metadata": {},
     "output_type": "execute_result"
    }
   ],
   "source": [
    "# 1) 세 데이터프레임을 merge \n",
    "tmp=pd.merge(sales,products)\n",
    "to_tmp=pd.merge(tmp,customers)\n",
    "\n",
    "to_tmp.head()"
   ]
  },
  {
   "cell_type": "code",
   "execution_count": 45,
   "metadata": {
    "id": "UE-R_bhKmZ9v"
   },
   "outputs": [
    {
     "name": "stdout",
     "output_type": "stream",
     "text": [
      "Category\n",
      "간식     0.080877\n",
      "과일     0.088935\n",
      "반찬류    0.310787\n",
      "유제품    0.134631\n",
      "채소     0.384770\n",
      "Name: Amt, dtype: float64\n",
      "Category\n",
      "간식     0.068632\n",
      "과일     0.264618\n",
      "반찬류    0.129206\n",
      "유제품    0.255305\n",
      "채소     0.282240\n",
      "Name: Amt, dtype: float64\n",
      "Category\n",
      "간식     0.083996\n",
      "과일     0.257663\n",
      "반찬류    0.138119\n",
      "유제품    0.257045\n",
      "채소     0.263177\n",
      "Name: Amt, dtype: float64\n",
      "Category\n",
      "간식     0.057381\n",
      "과일     0.256595\n",
      "반찬류    0.171246\n",
      "유제품    0.229995\n",
      "채소     0.284783\n",
      "Name: Amt, dtype: float64\n",
      "Category\n",
      "간식     0.034329\n",
      "과일     0.226639\n",
      "반찬류    0.242396\n",
      "유제품    0.164646\n",
      "채소     0.331990\n",
      "Name: Amt, dtype: float64\n",
      "Category\n",
      "간식     0.025016\n",
      "과일     0.279025\n",
      "반찬류    0.269608\n",
      "유제품    0.108956\n",
      "채소     0.317394\n",
      "Name: Amt, dtype: float64\n"
     ]
    }
   ],
   "source": [
    "# 2) for loop를 이용하여, 각 연령대에 대해서 다음의 작업을 반복 수행\n",
    "ag = to_tmp['AgeGroup'].unique().sort_values()\n",
    "\n",
    "for a in ag :\n",
    "    tmp3 = to_tmp.loc[to_tmp['AgeGroup'] == a]\n",
    "    t_amt = tmp3['Amt'].sum()\n",
    "    tmp4 = tmp3.groupby('Category')['Amt'].sum() / t_amt\n",
    "    print(tmp4)"
   ]
  },
  {
   "cell_type": "code",
   "execution_count": null,
   "metadata": {
    "id": "l6ktyMwIn-V5"
   },
   "outputs": [],
   "source": []
  }
 ],
 "metadata": {
  "colab": {
   "collapsed_sections": [],
   "name": "09 - 총정리실습.ipynb",
   "provenance": [],
   "toc_visible": true
  },
  "kernelspec": {
   "display_name": "Python 3",
   "language": "python",
   "name": "python3"
  },
  "language_info": {
   "codemirror_mode": {
    "name": "ipython",
    "version": 3
   },
   "file_extension": ".py",
   "mimetype": "text/x-python",
   "name": "python",
   "nbconvert_exporter": "python",
   "pygments_lexer": "ipython3",
   "version": "3.8.8"
  }
 },
 "nbformat": 4,
 "nbformat_minor": 1
}
